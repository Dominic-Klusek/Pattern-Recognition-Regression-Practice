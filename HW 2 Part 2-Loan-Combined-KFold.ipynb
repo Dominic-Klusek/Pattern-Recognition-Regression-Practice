{
 "cells": [
  {
   "cell_type": "code",
   "execution_count": 1,
   "metadata": {},
   "outputs": [
    {
     "data": {
      "text/html": [
       "<style>.container { width:100% !important; }</style>"
      ],
      "text/plain": [
       "<IPython.core.display.HTML object>"
      ]
     },
     "metadata": {},
     "output_type": "display_data"
    }
   ],
   "source": [
    "from IPython.display import Image\n",
    "# inline plotting instead of popping out\n",
    "%matplotlib inline\n",
    "\n",
    "# increase width of jupyter notebook cells\n",
    "from IPython.core.display import display, HTML\n",
    "display(HTML(\"<style>.container { width:100% !important; }</style>\"))"
   ]
  },
  {
   "cell_type": "code",
   "execution_count": 2,
   "metadata": {},
   "outputs": [
    {
     "name": "stderr",
     "output_type": "stream",
     "text": [
      "Using TensorFlow backend.\n"
     ]
    }
   ],
   "source": [
    "import matplotlib.pyplot as plt\n",
    "import seaborn as sns\n",
    "import numpy as np\n",
    "import pandas as pd\n",
    "from sklearn.preprocessing import Normalizer, StandardScaler, MinMaxScaler, PowerTransformer\n",
    "from sklearn.model_selection import train_test_split, KFold, StratifiedKFold\n",
    "from sklearn.metrics import r2_score, confusion_matrix, mean_squared_error\n",
    "from sklearn.preprocessing import LabelEncoder\n",
    "import imblearn\n",
    "from seaborn import heatmap"
   ]
  },
  {
   "cell_type": "code",
   "execution_count": 3,
   "metadata": {},
   "outputs": [],
   "source": [
    "def _shuffle(X, Y):\n",
    "    randomize = np.arange(len(X))\n",
    "    np.random.shuffle(randomize)\n",
    "    return (X[randomize], Y[randomize])\n",
    "\n",
    "def dataset_split(dataset, class_labels, test_set_size=0.2, validation_set_size=0.1):\n",
    "    '''\n",
    "        Function to split dataset into three subsets:\n",
    "            - Training\n",
    "            - Testing\n",
    "            - Validation\n",
    "        Parameters:\n",
    "            dataset: array that supports indexing or size (number of samples, number of features)\n",
    "            \n",
    "            test_set_size: float between [0.0, 1.0] to determine the size of test_set\n",
    "            \n",
    "            validation_set_size: float between [0.0, 1.0] to determine the size of validation_set\n",
    "            \n",
    "        Outpus:\n",
    "            training_dataset, testing_dataset, validation_dataset: arrays of data with sizes dependant on size parameters\n",
    "    '''\n",
    "    import math\n",
    "    \n",
    "    # shuffle the dataset\n",
    "    dataset, class_labels = _shuffle(dataset, class_labels)\n",
    "    \n",
    "    # get dataset shape\n",
    "    dataset_shape = dataset.shape\n",
    "    \n",
    "    # create training subset\n",
    "    start_index = 0\n",
    "    end_index = math.floor(dataset_shape[0] * (1.0 - test_set_size - validation_set_size))\n",
    "    \n",
    "    training_dataset = dataset[start_index:end_index+1]\n",
    "    training_labels = class_labels[start_index:end_index+1]\n",
    "    \n",
    "    # create testing subset\n",
    "    start_index = end_index+1\n",
    "    end_index = start_index + math.floor(dataset_shape[0] * test_set_size)\n",
    "    \n",
    "    validation_dataset = dataset[start_index:end_index+1]\n",
    "    validation_labels = class_labels[start_index:end_index+1]\n",
    "    \n",
    "    # create validation subset\n",
    "    start_index = end_index+1\n",
    "    end_index = dataset_shape[0]\n",
    "    \n",
    "    testing_dataset = dataset[start_index:end_index]\n",
    "    testing_labels = class_labels[start_index:end_index]\n",
    "    \n",
    "    # return subsets\n",
    "    return training_dataset, training_labels, validation_dataset, validation_labels, testing_dataset, testing_labels\n",
    "\n",
    "def seperate_boxplot(data, layout=(7,5), figsize=(15,10)):\n",
    "    # create a main figure\n",
    "    plt.figure(facecolor='w', figsize=figsize)\n",
    "    \n",
    "    # for each column of data, create a subplot and create a boxplot\n",
    "    for i, col in enumerate(data.columns):\n",
    "        plt.subplot(layout[0], layout[1], i+1)\n",
    "        plt.boxplot(data[col], labels=[col])\n",
    "    return"
   ]
  },
  {
   "cell_type": "markdown",
   "metadata": {},
   "source": [
    "<h2>Dataset Information</h2>\n",
    "<p>This dataset contains information about applicants applying for a loan. </p>\n",
    "\n",
    "<ul>\n",
    "    <li><strong>Number of Instances: </strong>981</li>\n",
    "    <li><strong>Number of Attributes: </strong>13</li>\n",
    "</ul>\n",
    "\n",
    "<h3>Attribute Information:</h3>\n",
    "<ol>\n",
    "    <li><code>Loan_ID</code>: unique identifier of applicant</li>\n",
    "    <li><code>Gender</code>: gender of the applicant (binary)</li>\n",
    "    <li><code>Married</code>: marital status of applicant(binary)</li>\n",
    "    <li><code>Dependent</code>: number of dependents of the applicant(integer 1-3)</li>\n",
    "    <li><code>Education</code>: education level of applicant(binary)</li>\n",
    "    <li><code>Self_Employed</code>: self employment status of applicant(binary)</li>\n",
    "    <li><code>ApplicantIncome</code>: monthly income of applicant(integer)</li>\n",
    "    <li><code>CoapplicantIncome</code>: monthly income of Coapplicant(integer)</li>\n",
    "    <li><code>LoanAmount</code>: amount requested by applicant(continuous)</li>\n",
    "    <li><code>Loan_Amount_Term</code>: term of loan(integer)</li>\n",
    "    <li><code>Credit_History</code>: meansure of credit history(continuous)</li>\n",
    "    <li><code>Property_Area</code>: type of area in which applicant lives(binary)</li>\n",
    "    <li><code>Loan_Status</code>: whether the loan was approved or not(binary)</li>\n",
    "</ol>"
   ]
  },
  {
   "cell_type": "code",
   "execution_count": 4,
   "metadata": {},
   "outputs": [
    {
     "name": "stdout",
     "output_type": "stream",
     "text": [
      "    Loan_ID Gender Married Dependents     Education Self_Employed  \\\n",
      "0  LP001002   Male      No          0      Graduate            No   \n",
      "1  LP001003   Male     Yes          1      Graduate            No   \n",
      "2  LP001005   Male     Yes          0      Graduate           Yes   \n",
      "3  LP001006   Male     Yes          0  Not Graduate            No   \n",
      "4  LP001008   Male      No          0      Graduate            No   \n",
      "\n",
      "   ApplicantIncome  CoapplicantIncome  LoanAmount  Loan_Amount_Term  \\\n",
      "0             5849                0.0         NaN             360.0   \n",
      "1             4583             1508.0       128.0             360.0   \n",
      "2             3000                0.0        66.0             360.0   \n",
      "3             2583             2358.0       120.0             360.0   \n",
      "4             6000                0.0       141.0             360.0   \n",
      "\n",
      "   Credit_History Property_Area Loan_Status  \n",
      "0             1.0         Urban           Y  \n",
      "1             1.0         Rural           N  \n",
      "2             1.0         Urban           Y  \n",
      "3             1.0         Urban           Y  \n",
      "4             1.0         Urban           Y  \n"
     ]
    }
   ],
   "source": [
    "# read data in from csv file\n",
    "df = pd.read_csv('DatasetRegression/Credit_Risk_Train_data - Copy.csv', sep=',')\n",
    "\n",
    "# set column names\n",
    "df.columns = ['Loan_ID','Gender','Married','Dependents','Education','Self_Employed',\n",
    "              'ApplicantIncome','CoapplicantIncome','LoanAmount','Loan_Amount_Term',\n",
    "              'Credit_History','Property_Area','Loan_Status'\n",
    "]\n",
    "\n",
    "# display some examples\n",
    "print(df.head())"
   ]
  },
  {
   "cell_type": "code",
   "execution_count": 5,
   "metadata": {},
   "outputs": [],
   "source": [
    "# remove rows with NaN values\n",
    "df.dropna(inplace=True)\n",
    "\n",
    "# need to encode the columns of non-integer data\n",
    "encoder = LabelEncoder()\n",
    "df['Gender'] = encoder.fit_transform(df['Gender'].values)\n",
    "\n",
    "encoder = LabelEncoder()\n",
    "df['Married'] = encoder.fit_transform(df['Married'].values)\n",
    "\n",
    "encoder = LabelEncoder()\n",
    "df['Education'] = encoder.fit_transform(df['Education'].values)\n",
    "\n",
    "encoder = LabelEncoder()\n",
    "df['Self_Employed'] = encoder.fit_transform(df['Self_Employed'].values)\n",
    "\n",
    "encoder = LabelEncoder()\n",
    "df['Property_Area'] = encoder.fit_transform(df['Property_Area'].values)\n",
    "\n",
    "target = df['Dependents'].values\n",
    "target[target == '3+'] = 3.0\n",
    "\n",
    "target = df['Loan_Status'].values\n",
    "target[target == 'N'] = 0.0\n",
    "target[target == 'Y'] = 1.0\n",
    "\n",
    "# also remove Loan_ID as its not important\n",
    "df = df.drop('Loan_ID', axis=1)\n",
    "\n",
    "# convert data type of all columns to float64\n",
    "for col in df.columns:\n",
    "    df[col] = df[col].astype(np.float64)"
   ]
  },
  {
   "cell_type": "code",
   "execution_count": 6,
   "metadata": {},
   "outputs": [
    {
     "data": {
      "text/plain": [
       "1.0    561\n",
       "0.0    208\n",
       "Name: Loan_Status, dtype: int64"
      ]
     },
     "execution_count": 6,
     "metadata": {},
     "output_type": "execute_result"
    }
   ],
   "source": [
    "# display class distribution\n",
    "df['Loan_Status'].value_counts()"
   ]
  },
  {
   "cell_type": "code",
   "execution_count": 7,
   "metadata": {},
   "outputs": [
    {
     "name": "stdout",
     "output_type": "stream",
     "text": [
      "           Gender     Married  Dependents   Education  Self_Employed  \\\n",
      "count  769.000000  769.000000  769.000000  769.000000     769.000000   \n",
      "mean     0.811443    0.647594    0.786736    0.210663       0.127438   \n",
      "std      0.391411    0.478030    1.036461    0.408045       0.333680   \n",
      "min      0.000000    0.000000    0.000000    0.000000       0.000000   \n",
      "25%      1.000000    0.000000    0.000000    0.000000       0.000000   \n",
      "50%      1.000000    1.000000    0.000000    0.000000       0.000000   \n",
      "75%      1.000000    1.000000    2.000000    0.000000       0.000000   \n",
      "max      1.000000    1.000000    3.000000    1.000000       1.000000   \n",
      "\n",
      "       ApplicantIncome  CoapplicantIncome  LoanAmount  Loan_Amount_Term  \\\n",
      "count       769.000000         769.000000  769.000000        769.000000   \n",
      "mean       5091.061118        1561.239168  141.750325        342.283485   \n",
      "std        5363.714294        2528.694435   73.442988         65.337248   \n",
      "min           0.000000           0.000000    9.000000          6.000000   \n",
      "25%        2895.000000           0.000000  100.000000        360.000000   \n",
      "50%        3850.000000        1032.000000  128.000000        360.000000   \n",
      "75%        5532.000000        2333.000000  163.000000        360.000000   \n",
      "max       81000.000000       33837.000000  600.000000        480.000000   \n",
      "\n",
      "       Credit_History  Property_Area  Loan_Status  \n",
      "count      769.000000     769.000000   769.000000  \n",
      "mean         0.849155       1.045514     0.729519  \n",
      "std          0.358131       0.798279     0.444497  \n",
      "min          0.000000       0.000000     0.000000  \n",
      "25%          1.000000       0.000000     0.000000  \n",
      "50%          1.000000       1.000000     1.000000  \n",
      "75%          1.000000       2.000000     1.000000  \n",
      "max          1.000000       2.000000     1.000000  \n"
     ]
    }
   ],
   "source": [
    "# display statistical data of data\n",
    "print(df.describe())"
   ]
  },
  {
   "cell_type": "code",
   "execution_count": 8,
   "metadata": {},
   "outputs": [
    {
     "data": {
      "image/png": "[encoded data removed]",
      "text/plain": [
       "<Figure size 1440x1800 with 12 Axes>"
      ]
     },
     "metadata": {},
     "output_type": "display_data"
    }
   ],
   "source": [
    "# box and whisker plots\n",
    "seperate_boxplot(df, figsize=(20,25))\n",
    "plt.show()"
   ]
  },
  {
   "cell_type": "markdown",
   "metadata": {},
   "source": [
    "<p>With this dataset we have a few problems. The first problem is that many of the parameters need to be encoded into integer values because they are string values; but this is easily remedied by using the LabelEncoder from Scikit-Learn; however it should be noted that this may not give the best values to represent the data.<br> The second problem is in regards to having an unbalanced dataset which is seen in the class distribution; this could be remedied by resampling the dataset in a meaningful manner and is explored later.<br>Other than those problems looking at the box and whisker plots shows that for most features there are no outliers, but there are outliers for the continuous variables like income, loan amount, and the term of the loan.</p>"
   ]
  },
  {
   "cell_type": "code",
   "execution_count": 9,
   "metadata": {},
   "outputs": [
    {
     "name": "stdout",
     "output_type": "stream",
     "text": [
      "#Original data points: 769\n",
      "#Training data points: 539\n",
      "#Validation data points: 154\n",
      "#Testing data points: 76\n"
     ]
    }
   ],
   "source": [
    "# reshape dataset and split into testing and training points\n",
    "# also remove the Load_ID since it is meaningless for our purpose\n",
    "X = df.iloc[:, :-1].values\n",
    "y = df['Loan_Status'].values\n",
    "X_train, y_train, X_val, y_val, X_test, y_test= dataset_split(X, y)\n",
    "\n",
    "# print sizes of testing and training sets\n",
    "print(\"#Original data points:\",  X.shape[0])\n",
    "print('#Training data points: %d' % X_train.shape[0])\n",
    "print('#Validation data points: %d' % X_val.shape[0])\n",
    "print('#Testing data points: %d' % X_test.shape[0])"
   ]
  },
  {
   "cell_type": "markdown",
   "metadata": {},
   "source": [
    "<p>Since we are splitting the data on our own, we combine the training and validation datasets to increase the number of data examples while being able to control the split of data. Splitting the data set into 3 subsets allows us to have data for different purposes; the main ones being: training, validation,and testing. </p>"
   ]
  },
  {
   "cell_type": "code",
   "execution_count": 10,
   "metadata": {},
   "outputs": [],
   "source": [
    "def train_dev_split(X, y, dev_size=0.25):\n",
    "    # calculate length of training set\n",
    "    train_len = int(round(len(X)*(1-dev_size)))\n",
    "    # return split data\n",
    "    return X[0:train_len], y[0:train_len], X[train_len:None], y[train_len:None]"
   ]
  },
  {
   "cell_type": "code",
   "execution_count": 11,
   "metadata": {},
   "outputs": [],
   "source": [
    "def _normalize_columns_0_1(X, train=True, specified_column=None, X_min = None, X_max=None):\n",
    "    '''\n",
    "        Function that takes in a Pandas dataframe and normalizes the \n",
    "        specified columns between 0 and 1.\n",
    "        \n",
    "        Inputs:\n",
    "            - X: Pandas Dataframe\n",
    "            - train: bool\n",
    "            - specified_column: list of strings\n",
    "            - X_min: float\n",
    "            - X_max: float\n",
    "        Outputs:\n",
    "            - X: Pandas Dataframe with normalized columns\n",
    "            - X_max: float\n",
    "            - X_min: float\n",
    "    '''\n",
    "    if train:\n",
    "        if specified_column == None:\n",
    "            specified_column = np.arange(X.shape[1])\n",
    "        \n",
    "        length = len(specified_column)\n",
    "        X_max = np.reshape(np.max(X[:, specified_column], 0), (1, length))\n",
    "        X_min = np.reshape(np.min(X[:, specified_column], 0), (1, length))\n",
    "        \n",
    "    X[:, specified_column]= np.divide(np.subtract(X[:, specified_column], \n",
    "                                                  X_min), np.subtract(X_max, X_min))\n",
    "    \n",
    "    return X, X_max, X_min"
   ]
  },
  {
   "cell_type": "code",
   "execution_count": 12,
   "metadata": {},
   "outputs": [],
   "source": [
    "def _normalize_column_normal(X, train=True, specified_column = None, X_mean=None, X_std=None):\n",
    "    '''\n",
    "        Function that takes in a Pandas dataframe and normalizes the \n",
    "        specified columns centered around 0.\n",
    "        \n",
    "        Inputs:\n",
    "            - X: Pandas Dataframe\n",
    "            - train: bool\n",
    "            - specified_column: list of strings\n",
    "            - X_mean: float\n",
    "            - X_std: float\n",
    "        Outputs:\n",
    "            - X: Pandas Dataframe with normalized columns\n",
    "            - X_mean: float\n",
    "            - X_std: float\n",
    "    '''\n",
    "    if train:\n",
    "        if specified_column == None:\n",
    "            specified_column = np.arange(X.shape[1])\n",
    "    \n",
    "    length = len(specified_column)\n",
    "    X_mean = np.reshape(np.mean(X[:, specified_column],0), (1, length))\n",
    "    X_std = np.reshape(np.std(X[:, specified_column], 0), (1, length))\n",
    "    \n",
    "    X[:,specified_column] = np.divide(np.subtract(X[:,specified_column],X_mean), X_std)\n",
    "    \n",
    "    return X, X_mean, X_std"
   ]
  },
  {
   "cell_type": "code",
   "execution_count": 13,
   "metadata": {},
   "outputs": [],
   "source": [
    "# These are the columns that I want to normalize\n",
    "#X_train, X_mean, X_std = _normalize_columns_0_1(X_train)\n",
    "X_train, X_mean, X_std = _normalize_column_normal(X_train)"
   ]
  },
  {
   "cell_type": "code",
   "execution_count": 14,
   "metadata": {},
   "outputs": [],
   "source": [
    "#X_test, X_mean, X_std = _normalize_columns_0_1(X_test)\n",
    "X_val, X_mean, X_std = _normalize_column_normal(X_val)"
   ]
  },
  {
   "cell_type": "markdown",
   "metadata": {},
   "source": [
    "<p>Normalizing data allows for better representation of data, and reduces the difference in scale between different data features. For our dataset normalizing data worked better than rescaling the data between 0 and 1.</p>"
   ]
  },
  {
   "cell_type": "markdown",
   "metadata": {},
   "source": [
    "<h2>Logistic Regression</h2>\n",
    "<p>Logistic regression is a statistical model that in its basic form uses a logistic function to model a binary dependent variable, although many more complex extensions exist. In regression analysis, logistic regression (or logit regression) is estimating the parameters of a logistic model (a form of binary regression).<br>Using an activation function such as sigmoid which calculates the probability of the output to correspond to class label 0 works especially well for binary regression.</p>"
   ]
  },
  {
   "cell_type": "code",
   "execution_count": 15,
   "metadata": {},
   "outputs": [],
   "source": [
    "def _sigmoid(z):\n",
    "    # sigmoid function can be used to output probability\n",
    "    z = np.array(z, dtype=np.float32)\n",
    "    return np.clip(1 / (1.0 + np.exp(-z)), 1e-6, 1-1e-6)\n",
    "def get_prob(X, w, b):\n",
    "    # the probability to output 1\n",
    "    return _sigmoid(np.add(np.matmul(X, w), b))\n",
    "def infer(X, w, b):\n",
    "    # use round to infer the result\n",
    "    return np.round(get_prob(X, w, b))\n",
    "def _cross_entropy(y_pred, Y_label):\n",
    "    # compute the cross entropy\n",
    "    cross_entropy = -np.dot(Y_label, np.log(y_pred))-np.dot((1-Y_label), np.log(1-y_pred))\n",
    "    return cross_entropy\n",
    "def _gradient(X, Y_label, w, b):\n",
    "    # return the mean of the graident\n",
    "    y_pred = get_prob(X, w, b)\n",
    "    pred_error = Y_label - y_pred\n",
    "    w_grad = -np.mean(np.multiply(pred_error.T, X.T), 1)\n",
    "    b_grad = -np.mean(pred_error)\n",
    "    return w_grad, b_grad\n",
    "def _gradient_regularization(X, Y_label, w, b, lamda):\n",
    "    # return the mean of the graident\n",
    "    y_pred = get_prob(X, w, b)\n",
    "    pred_error = Y_label - y_pred\n",
    "    w_grad = -np.mean(np.multiply(pred_error.T, X.T), 1)+lamda*w\n",
    "    b_grad = -np.mean(pred_error)\n",
    "    return w_grad, b_grad\n",
    "def _loss(y_pred, Y_label, lamda, w):\n",
    "    return _cross_entropy(y_pred, Y_label) + lamda * np.sum(np.square(w))\n",
    "def accuracy(Y_pred, Y_label):\n",
    "    acc = np.sum(Y_pred == Y_label)/len(Y_pred)\n",
    "    return acc"
   ]
  },
  {
   "cell_type": "code",
   "execution_count": 16,
   "metadata": {},
   "outputs": [],
   "source": [
    "def train(X_train, Y_train, max_iter=40):\n",
    "    # split a validation set\n",
    "    dev_size = 0.1155\n",
    "    X_train, Y_train, X_dev, Y_dev = train_dev_split(X_train, Y_train, dev_size = dev_size)\n",
    "    \n",
    "    # Use 0 + 0*x1 + 0*x2 + ... for weight initialization\n",
    "    w = np.zeros((X_train.shape[1],))\n",
    "    b = np.zeros((1,))\n",
    "    \n",
    "    regularize = True\n",
    "    \n",
    "    if regularize:\n",
    "        lamda = 0.001\n",
    "    else:\n",
    "        lamda = 0\n",
    "    \n",
    "    batch_size = 32 # number to feed in the model for average to avoid bias\n",
    "    learning_rate = 0.01 # how much the model learn for each step\n",
    "    num_train = len(Y_train)\n",
    "    num_dev = len(Y_dev)\n",
    "    step = 1\n",
    "    \n",
    "    loss_train = []\n",
    "    loss_validation = []\n",
    "    train_acc = []\n",
    "    dev_acc = []\n",
    "    \n",
    "    for epoch in range(max_iter):\n",
    "        #print(\"Epoch:\", epoch+1)\n",
    "        # Random shuffle for each epoch\n",
    "        X_train, Y_train = _shuffle(X_train, Y_train)\n",
    "        total_loss = 0.0\n",
    "        \n",
    "        # Logistic regression train with batch\n",
    "        for idx in range(int(np.floor(len(Y_train)/batch_size))):\n",
    "            X = X_train[idx*batch_size:(idx+1)*batch_size]\n",
    "            Y = Y_train[idx*batch_size:(idx+1)*batch_size]\n",
    "           \n",
    "            # Find out the gradient of the loss\n",
    "            w_grad, b_grad = _gradient_regularization(X, Y, w, b, lamda)\n",
    "            \n",
    "            # gradient descent update\n",
    "            # learning rate decay with time\n",
    "            w = w - learning_rate/np.sqrt(step) * w_grad\n",
    "            b = b - learning_rate/np.sqrt(step) * b_grad\n",
    "            \n",
    "            step = step+1\n",
    "    \n",
    "        # Compute the loss and the accuracy of the training set and the validation set\n",
    "        y_train_pred = get_prob(X_train, w, b)\n",
    "        Y_train_pred = np.round(y_train_pred)\n",
    "        train_acc.append(accuracy(Y_train_pred, Y_train))\n",
    "        loss_train.append(_loss(y_train_pred, Y_train, lamda, w)/num_train)\n",
    "    \n",
    "        y_dev_pred = get_prob(X_dev, w, b)\n",
    "        Y_dev_pred = np.round(y_dev_pred)\n",
    "        dev_acc.append(accuracy(Y_dev_pred, Y_dev))\n",
    "        loss_validation.append(_loss(y_dev_pred, Y_dev, lamda, w)/num_dev)\n",
    "    return w, b, loss_train, loss_validation, train_acc, dev_acc # return loss for plotting"
   ]
  },
  {
   "cell_type": "code",
   "execution_count": 17,
   "metadata": {},
   "outputs": [],
   "source": [
    "# since we will be using K-Fold cross validation we don't need a seperate\n",
    "# testing and training test set\n",
    "\n",
    "X_combined = np.concatenate((X_train, X_val))\n",
    "Y_combined = np.concatenate((y_train, y_val))"
   ]
  },
  {
   "cell_type": "code",
   "execution_count": 18,
   "metadata": {
    "scrolled": true
   },
   "outputs": [],
   "source": [
    "k_fold = StratifiedKFold(shuffle=True)\n",
    "\n",
    "r_2_scores_folds = []\n",
    "mse_scores_folds = []\n",
    "results_folds = []\n",
    "class_labels_folds = []\n",
    "weight_folds = []\n",
    "\n",
    "\n",
    "for train_index, test_index in k_fold.split(X_combined, Y_combined):\n",
    "    # return loss is to plot the result\n",
    "    w, b, loss_train, loss_validation, train_acc, dev_acc=train(X_combined[train_index], Y_combined[train_index], 1000)\n",
    "    \n",
    "    # predict labels for test data\n",
    "    result = infer(X_combined[test_index], w, b)\n",
    "    \n",
    "    results_folds.append(result)\n",
    "    class_labels_folds.append(Y_combined[test_index])\n",
    "    mse_scores_folds.append(mean_squared_error(Y_combined[test_index], result))\n",
    "    r_2_scores_folds.append(r2_score(Y_combined[test_index], result))\n",
    "    weight_folds.append(w)"
   ]
  },
  {
   "cell_type": "code",
   "execution_count": 19,
   "metadata": {},
   "outputs": [],
   "source": [
    "# combine results from folds\n",
    "w = np.average(weight_folds, axis=0)\n",
    "results_folds = np.concatenate(results_folds).ravel()\n",
    "class_labels_folds = np.concatenate(class_labels_folds).ravel()"
   ]
  },
  {
   "cell_type": "code",
   "execution_count": 20,
   "metadata": {},
   "outputs": [
    {
     "name": "stdout",
     "output_type": "stream",
     "text": [
      "Average MSE 0.14142425190282557\n",
      "Average R^2 score 0.2824958790749797\n"
     ]
    },
    {
     "data": {
      "image/png": "[encoded data removed]",
      "text/plain": [
       "<Figure size 1080x720 with 2 Axes>"
      ]
     },
     "metadata": {
      "needs_background": "light"
     },
     "output_type": "display_data"
    }
   ],
   "source": [
    "print('Average MSE', np.average(mse_scores_folds))\n",
    "print('Average R^2 score', np.average(r_2_scores_folds))\n",
    "# confusion matrix to compare prediction\n",
    "plt.figure(figsize=(15,10))\n",
    "heatmap(confusion_matrix(class_labels_folds, results_folds, labels=[0,1], normalize='all'), annot=True)\n",
    "plt.show()"
   ]
  },
  {
   "cell_type": "markdown",
   "metadata": {
    "scrolled": false
   },
   "source": [
    "# plot the loss during training\n",
    "import matplotlib.pyplot as plt\n",
    "%matplotlib inline\n",
    "plt.figure(figsize=(15,10))\n",
    "plt.plot(loss_train)\n",
    "plt.plot(loss_validation)\n",
    "plt.legend(['train', 'dev'])\n",
    "plt.show()"
   ]
  },
  {
   "cell_type": "markdown",
   "metadata": {
    "scrolled": false
   },
   "source": [
    "# plot the accuracy during training\n",
    "plt.figure(figsize=(15,10))\n",
    "plt.plot(train_acc)\n",
    "plt.plot(dev_acc)\n",
    "plt.legend(['train', 'dev'])\n",
    "plt.show()"
   ]
  },
  {
   "cell_type": "code",
   "execution_count": 21,
   "metadata": {},
   "outputs": [],
   "source": [
    "with open('output/results_nonresampled.txt', 'w') as f:\n",
    "    f.write('id,label\\n')\n",
    "    for i, v in enumerate(result):\n",
    "        f.write('%d,%d\\n' %(i+1, v))"
   ]
  },
  {
   "cell_type": "code",
   "execution_count": 22,
   "metadata": {},
   "outputs": [
    {
     "name": "stdout",
     "output_type": "stream",
     "text": [
      "Credit_History 0.504080088474336\n",
      "Married 0.07481343000980209\n",
      "Education -0.061074656503244784\n",
      "LoanAmount -0.05435377689117388\n",
      "Property_Area 0.049453650656840646\n",
      "CoapplicantIncome -0.042859250013530435\n",
      "Dependents 0.024848187817116993\n",
      "Gender 0.01959254523308792\n",
      "ApplicantIncome 0.006039569801686207\n",
      "Loan_Amount_Term -0.004889721229544942\n",
      "Self_Employed -0.0008244191599739827\n"
     ]
    }
   ],
   "source": [
    "ind = np.argsort(np.abs(w))[::-1]\n",
    "for i in ind:\n",
    "    print(df.columns[i], w[i])"
   ]
  },
  {
   "cell_type": "markdown",
   "metadata": {},
   "source": [
    "<p>Looking at the graph of the loss and accuracy during training shows that the model does reduce loss over each epoch, but the overall accuracy for training and dev subsets does not improve during training. After some testing we added K-Fold cross validation due to the inconsistency of training with such a small dataset. We take the average of the R^2 and MSE scores, and the weights to get a generalized score of the performance of the model. <br>The model also predicts class 1 more than class 0 most likely due to the imbalance in the dataset skewing the model to achieve a better score by predicting class 1 more often. This in trun led to a low R^2 score, even though MSE is quite low.<br>Looking at the weights of the model we can tell that the model focuses highly on Credit_Historay and Married while only barely taking into account other data features. </p>"
   ]
  },
  {
   "cell_type": "markdown",
   "metadata": {},
   "source": [
    "<h2>Resampling The Dataset</h2>"
   ]
  },
  {
   "cell_type": "code",
   "execution_count": 23,
   "metadata": {},
   "outputs": [],
   "source": [
    "# reshape dataset and split into testing and training points\n",
    "X = df.iloc[:, :-1].values\n",
    "y = df['Loan_Status'].values\n",
    "sampler = imblearn.over_sampling.KMeansSMOTE(cluster_balance_threshold='auto')\n",
    "X_res, y_res = sampler.fit_resample(X, y)"
   ]
  },
  {
   "cell_type": "code",
   "execution_count": 24,
   "metadata": {},
   "outputs": [
    {
     "name": "stdout",
     "output_type": "stream",
     "text": [
      "0: 561\n",
      "1: 561\n"
     ]
    }
   ],
   "source": [
    "# display class distribution\n",
    "y, counts = np.unique(y_res, return_counts=True)\n",
    "for i in range(len(counts)):\n",
    "    print('%i:'%i, counts[i])"
   ]
  },
  {
   "cell_type": "code",
   "execution_count": 25,
   "metadata": {},
   "outputs": [
    {
     "name": "stdout",
     "output_type": "stream",
     "text": [
      "#Original data points: 1122\n",
      "#Training data points: 786\n",
      "#Validation data points: 225\n",
      "#Testing data points: 111\n"
     ]
    }
   ],
   "source": [
    "X_train, y_train, X_val, y_val, X_test, y_test= dataset_split(X_res, y_res)\n",
    "\n",
    "# print sizes of testing and training sets\n",
    "print(\"#Original data points:\",  X_res.shape[0])\n",
    "print('#Training data points: %d' % X_train.shape[0])\n",
    "print('#Validation data points: %d' % X_val.shape[0])\n",
    "print('#Testing data points: %d' % X_test.shape[0])"
   ]
  },
  {
   "cell_type": "code",
   "execution_count": 26,
   "metadata": {},
   "outputs": [],
   "source": [
    "# These are the columns that I want to normalize\n",
    "#X_train, X_mean, X_std = _normalize_columns_0_1(X_train)\n",
    "X_train, X_mean, X_std = _normalize_column_normal(X_train)"
   ]
  },
  {
   "cell_type": "code",
   "execution_count": 27,
   "metadata": {},
   "outputs": [],
   "source": [
    "#X_test, X_mean, X_std = _normalize_columns_0_1(X_test)\n",
    "X_val, X_mean, X_std = _normalize_column_normal(X_val)"
   ]
  },
  {
   "cell_type": "code",
   "execution_count": 28,
   "metadata": {},
   "outputs": [],
   "source": [
    "# since we will be using K-Fold cross validation we don't need a seperate\n",
    "# testing and training test set\n",
    "\n",
    "X_combined = np.concatenate((X_train, X_val))\n",
    "Y_combined = np.concatenate((y_train, y_val))"
   ]
  },
  {
   "cell_type": "code",
   "execution_count": 29,
   "metadata": {
    "scrolled": true
   },
   "outputs": [
    {
     "name": "stdout",
     "output_type": "stream",
     "text": [
      "Average MSE 0.09889284494951958\n",
      "Average R^2 score 0.603578900851525\n"
     ]
    }
   ],
   "source": [
    "k_fold = KFold(shuffle=True)\n",
    "\n",
    "r_2_scores_folds = []\n",
    "mse_scores_folds = []\n",
    "results_folds = []\n",
    "class_labels_folds = []\n",
    "weight_folds = []\n",
    "\n",
    "\n",
    "for train_index, test_index in k_fold.split(X_combined, Y_combined):\n",
    "    # return loss is to plot the result\n",
    "    w, b, loss_train, loss_validation, train_acc, dev_acc=train(X_combined[train_index], Y_combined[train_index], 1000)\n",
    "    \n",
    "    # predict labels for test data\n",
    "    result = infer(X_combined[test_index], w, b)\n",
    "    \n",
    "    results_folds.append(np.array(result, dtype=np.uint8))\n",
    "    class_labels_folds.append(np.array(Y_combined[test_index], dtype=np.uint8))\n",
    "    mse_scores_folds.append(mean_squared_error(Y_combined[test_index], result))\n",
    "    r_2_scores_folds.append(r2_score(Y_combined[test_index], result))\n",
    "    weight_folds.append(w)\n",
    "\n",
    "# measurements of performance\n",
    "print('Average MSE', np.average(mse_scores_folds))\n",
    "print('Average R^2 score', np.average(r_2_scores_folds))"
   ]
  },
  {
   "cell_type": "code",
   "execution_count": 30,
   "metadata": {},
   "outputs": [],
   "source": [
    "# combine results from folds\n",
    "w = np.average(weight_folds, axis=0)\n",
    "results_folds = np.concatenate(results_folds).ravel()\n",
    "class_labels_folds = np.concatenate(class_labels_folds).ravel()"
   ]
  },
  {
   "cell_type": "code",
   "execution_count": 31,
   "metadata": {},
   "outputs": [
    {
     "name": "stdout",
     "output_type": "stream",
     "text": [
      "Average MSE 0.09889284494951958\n",
      "Average R^2 score 0.603578900851525\n"
     ]
    },
    {
     "data": {
      "image/png": "[encoded data removed]",
      "text/plain": [
       "<Figure size 1080x720 with 2 Axes>"
      ]
     },
     "metadata": {
      "needs_background": "light"
     },
     "output_type": "display_data"
    }
   ],
   "source": [
    "print('Average MSE', np.average(mse_scores_folds))\n",
    "print('Average R^2 score', np.average(r_2_scores_folds))\n",
    "# confusion matrix to compare prediction\n",
    "plt.figure(figsize=(15,10))\n",
    "heatmap(confusion_matrix(class_labels_folds, results_folds, labels=[0,1], normalize='all'), annot=True)\n",
    "plt.show()"
   ]
  },
  {
   "cell_type": "markdown",
   "metadata": {
    "scrolled": false
   },
   "source": [
    "# plot the loss during training\n",
    "import matplotlib.pyplot as plt\n",
    "%matplotlib inline\n",
    "plt.figure(figsize=(15,10))\n",
    "plt.plot(loss_train)\n",
    "plt.plot(loss_validation)\n",
    "plt.legend(['train', 'dev'])\n",
    "plt.show()"
   ]
  },
  {
   "cell_type": "markdown",
   "metadata": {
    "scrolled": false
   },
   "source": [
    "# plot the accuracy during training\n",
    "plt.figure(figsize=(15,10))\n",
    "plt.plot(train_acc)\n",
    "plt.plot(dev_acc)\n",
    "plt.legend(['train', 'dev'])\n",
    "plt.show()"
   ]
  },
  {
   "cell_type": "code",
   "execution_count": 32,
   "metadata": {},
   "outputs": [],
   "source": [
    "with open('output/results_resampled.txt', 'w') as f:\n",
    "    f.write('id,label\\n')\n",
    "    for i, v in enumerate(result):\n",
    "        f.write('%d,%d\\n' %(i+1, v))"
   ]
  },
  {
   "cell_type": "code",
   "execution_count": 33,
   "metadata": {},
   "outputs": [
    {
     "name": "stdout",
     "output_type": "stream",
     "text": [
      "CoapplicantIncome -0.588767181319478\n",
      "Credit_History 0.5275997805110055\n",
      "Married 0.21743371140914505\n",
      "ApplicantIncome 0.1547605549670094\n",
      "Self_Employed -0.14669045651093618\n",
      "LoanAmount -0.12125718821568879\n",
      "Gender -0.08933060929899515\n",
      "Loan_Amount_Term -0.07035483971073433\n",
      "Education 0.06818285156104384\n",
      "Property_Area -0.05987718956466328\n",
      "Dependents 0.014225174373455865\n"
     ]
    }
   ],
   "source": [
    "ind = np.argsort(np.abs(w))[::-1]\n",
    "for i in ind:\n",
    "    print(df.columns[i], w[i])"
   ]
  },
  {
   "cell_type": "markdown",
   "metadata": {},
   "source": [
    "<p>With resampling the dataset the model has a more balanced representation of each class and is able to better learn the features that distinguish classes. Compared to the nonresampled weights; the model trained on resampled data puts more emphasis on <code>Credit_History, CoapplicantIncome, and LoanAmount</code>; which makes sense since a good <code>Credit_History</code> shows consistency in making payments, the <code>CoapplicantIncome</code> is not that important since they are not responsible for paying back the loan, and the LoanAmount could cause loaners to deny the loan if the amount is too high. Not only that, but the MSE and R^2 scores increased as well and this is evident in the confusion matrices between the unsampled and resampled data.<br> Resampling did not help to overcome the overfitting in the model, but it did help alleviate the problem of more prediction of one class over the other; which can be seen in the confusion matrices above.</p>"
   ]
  },
  {
   "cell_type": "markdown",
   "metadata": {},
   "source": [
    "<h2>Final Remarks</h2>\n",
    "<ul>\n",
    "    <li>Logistic Regression is a probabalistic model which calculated the probability of one class in comparison to the others. Utilizing activation functions such as Sigmoid allow for easy calculation of these percentages and works well for problems with only 2 classes.</li>\n",
    "    <li>Inequality with the number fo classes can lead to a certain \"performance paradox\" in which the model achieve good marks during training, but when looking at the confusion matrix it can be seen that the model is achieving good perforamnce by estimating the most prevelant class in the dataset.</li>\n",
    "    <li>Resampling the dataset could help improve performance either utilizing over sampling or under sampling. Since there is a small number of data we utilize over sampling to counteract the class inequality.</li>\n",
    "</ul>"
   ]
  },
  {
   "cell_type": "code",
   "execution_count": null,
   "metadata": {},
   "outputs": [],
   "source": []
  }
 ],
 "metadata": {
  "kernelspec": {
   "display_name": "Python 3",
   "language": "python",
   "name": "python3"
  },
  "language_info": {
   "codemirror_mode": {
    "name": "ipython",
    "version": 3
   },
   "file_extension": ".py",
   "mimetype": "text/x-python",
   "name": "python",
   "nbconvert_exporter": "python",
   "pygments_lexer": "ipython3",
   "version": "3.7.3"
  }
 },
 "nbformat": 4,
 "nbformat_minor": 2
}
